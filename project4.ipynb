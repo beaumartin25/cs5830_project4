{
 "cells": [
  {
   "cell_type": "markdown",
   "metadata": {},
   "source": [
    "### Imports"
   ]
  },
  {
   "cell_type": "code",
   "execution_count": 1,
   "metadata": {},
   "outputs": [],
   "source": [
    "import pandas as pd\n",
    "import numpy as np\n",
    "from sklearn.neighbors import NearestNeighbors\n",
    "import random\n",
    "\n",
    "import matplotlib.pyplot as plt"
   ]
  },
  {
   "cell_type": "markdown",
   "metadata": {},
   "source": [
    "### Add csv"
   ]
  },
  {
   "cell_type": "code",
   "execution_count": null,
   "metadata": {},
   "outputs": [],
   "source": [
    "# Comma-separated values\n",
    "df = pd.read_csv('cleveland.csv')\n",
    "\n",
    "# Rename 'num' column to 'disease' and change 1,2,3,4 to 1\n",
    "df = df.rename({'num':'disease'}, axis=1)\n",
    "df['disease'] = df.disease.apply(lambda x: min(x, 1))\n",
    "df"
   ]
  },
  {
   "cell_type": "markdown",
   "metadata": {},
   "source": [
    "### Standardizing Attributes"
   ]
  },
  {
   "cell_type": "code",
   "execution_count": 3,
   "metadata": {},
   "outputs": [],
   "source": [
    "\n",
    "\n",
    "# standardize age and bp\n",
    "df['age_s'] = (df.age - df.age.mean())/df.age.std()\n",
    "df['trestbps_s'] = (df.trestbps - df.trestbps.mean())/df.trestbps.std()\n",
    "df['chol_s'] = (df.chol - df.chol.mean())/df.chol.std()\n",
    "df['fbs_s'] = (df.fbs - df.fbs.mean())/df.fbs.std()\n",
    "# display(df.age_s)\n"
   ]
  },
  {
   "cell_type": "markdown",
   "metadata": {},
   "source": [
    "### Find good attributes"
   ]
  },
  {
   "cell_type": "code",
   "execution_count": null,
   "metadata": {},
   "outputs": [],
   "source": [
    "from sklearn.metrics import precision_recall_fscore_support\n",
    "from sklearn.model_selection import train_test_split\n",
    "from numpy import array\n",
    "from sklearn.model_selection import KFold\n",
    "\n",
    "\n",
    "# Use knn on age. First create a nearest neighbors object.\n",
    "nn = NearestNeighbors(n_neighbors=6, metric='euclidean', algorithm='auto')\n",
    "\n",
    "age = 'age_s'\n",
    "trestbps = 'trestbps_s'\n",
    "chol = 'chol_s'\n",
    "fbs = 'fbs_s'\n",
    "\n",
    "# This builds an index data structure under the hood for query performance\n",
    "X = df[[age, trestbps, chol, fbs]].values\n",
    "y = df[['disease']].values\n",
    "\n",
    "\n",
    "# Get random patients to test on\n",
    "X_train, X_test, y_train, y_test = train_test_split(X, y, test_size=0.25)\n",
    "\n",
    "fit = nn.fit(X_train)\n",
    "# Find the k nearest neighbors to the patient.\n",
    "distances, indices = fit.kneighbors(X_test)\n",
    "\n",
    "\n",
    "y_pred = []\n",
    "for i in range(len(indices)):\n",
    "\n",
    "    nbrs_diseased = y_train[indices[i]].flatten() # flatten pushes the arrays to be 1 dimensional used to be [[0],[1],[1]] now [0,1,1]\n",
    "\n",
    "    predict = pd.Series(nbrs_diseased).mode()[0]  # Find the most common label\n",
    "    y_pred.append(predict)\n",
    "\n",
    "y_pred\n",
    "# This is where we would compile how many patients are predicted\n",
    "# correctly. Remember:\n",
    "#    precision = tp/(tp+fp)  (\"sloppiness\")\n",
    "#    recall    = tp/(tp+fn)  (\"What percentage did we find?\")\n",
    "#    f-score - a balance between precision and recall\n",
    "#    support - number of positive labels\n",
    "(p,r,f,s) = precision_recall_fscore_support(y_test, y_pred, labels=[1])\n",
    "print(f'precision={p}, recall={r}, f-score={f}, support={s}')\n",
    "\n"
   ]
  },
  {
   "cell_type": "markdown",
   "metadata": {},
   "source": [
    "### Implement K fold"
   ]
  },
  {
   "cell_type": "code",
   "execution_count": null,
   "metadata": {},
   "outputs": [],
   "source": [
    "import pandas as pd\n",
    "import numpy as np\n",
    "from sklearn.metrics import precision_recall_fscore_support\n",
    "from sklearn.model_selection import train_test_split, KFold, GridSearchCV\n",
    "from sklearn.neighbors import NearestNeighbors\n",
    "\n",
    "\n",
    "# Create a function for prediction and evaluation\n",
    "def predict_and_evaluate(X, y, k_values, n_splits=10):\n",
    "    results = []\n",
    "\n",
    "    # Perform K-Fold cross-validation\n",
    "    kf = KFold(n_splits=n_splits, shuffle=True)\n",
    "\n",
    "    for k in k_values:\n",
    "        y_pred = []\n",
    "        y_true = []\n",
    "\n",
    "        for train_index, test_index in kf.split(X):\n",
    "            X_train, X_test = X[train_index], X[test_index]\n",
    "            y_train, y_test = y[train_index], y[test_index]\n",
    "\n",
    "            # Create nearest neighbors object\n",
    "            nn = NearestNeighbors(n_neighbors=k, metric='euclidean', algorithm='auto')\n",
    "            nn.fit(X_train)\n",
    "\n",
    "            # Find the k nearest neighbors to the test set\n",
    "            distances, indices = nn.kneighbors(X_test)\n",
    "\n",
    "            for i in range(len(X_test)):\n",
    "                nbrs_diseased = y_train[indices[i]].flatten()\n",
    "                predict = pd.Series(nbrs_diseased).mode()[0]  # Most common label\n",
    "                y_pred.append(predict)\n",
    "                y_true.append(y_test[i][0])\n",
    "\n",
    "        # Calculate precision, recall, and F1 scores\n",
    "        (p, r, f, s) = precision_recall_fscore_support(y_true, y_pred, labels=[1])\n",
    "        results.append((k, p, r, f, s))\n",
    "\n",
    "    return results\n",
    "\n",
    "# Main execution\n",
    "age = 'age_s'\n",
    "trestbps = 'trestbps_s'\n",
    "chol = 'chol_s'\n",
    "fbs = 'fbs_s'\n",
    "\n",
    "X = df[[age, trestbps, chol, fbs]].values\n",
    "y = df[['disease']].values\n",
    "\n",
    "\n",
    "# Define the range of k values to try\n",
    "k_values = range(1, 21)  # Test k from 1 to 20\n",
    "results = predict_and_evaluate(X, y, k_values)\n",
    "\n",
    "# Print the results\n",
    "for k, p, r, f, s in results:\n",
    "    print(f'k={k}, precision={p}, recall={r}, f-score={f}, support={s}')\n"
   ]
  }
 ],
 "metadata": {
  "kernelspec": {
   "display_name": "Python 3",
   "language": "python",
   "name": "python3"
  },
  "language_info": {
   "codemirror_mode": {
    "name": "ipython",
    "version": 3
   },
   "file_extension": ".py",
   "mimetype": "text/x-python",
   "name": "python",
   "nbconvert_exporter": "python",
   "pygments_lexer": "ipython3",
   "version": "3.12.0"
  }
 },
 "nbformat": 4,
 "nbformat_minor": 2
}
